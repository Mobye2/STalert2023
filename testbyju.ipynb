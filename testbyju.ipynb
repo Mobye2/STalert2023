{
 "cells": [
  {
   "cell_type": "code",
   "execution_count": 65,
   "metadata": {},
   "outputs": [],
   "source": [
    "import pandas as pd\n",
    "import requests\n",
    "import json\n",
    "import time\n",
    "import random\n",
    "import os\n",
    "from datetime import datetime\n",
    "import comfunc as cf\n",
    "\n",
    "\n",
    "def urltjason(url):\n",
    "    user_agent = {'User-agent': 'Chrome/107.0.0.0'}\n",
    "    r = requests.get(url,  headers=user_agent)\n",
    "    print(r, '狀態回應')\n",
    "    list_of_dicts = r.json()\n",
    "    # print (list_of_dicts)\n",
    "    return (list_of_dicts)\n",
    "\n",
    "\n",
    "def getstockdata(date, stock_no):\n",
    "    html = urltjason(\n",
    "        'https://www.twse.com.tw/exchangeReport/STOCK_DAY?response=json&date=%s&stockNo=%s' % (date, stock_no))\n",
    "    stock_data = html['data']\n",
    "    col_name = html['fields']\n",
    "    global stockname\n",
    "    stockname = html['title']\n",
    "    return pd.DataFrame(data=stock_data, columns=col_name)\n",
    "\n",
    "\n",
    "def historydata(date, enddate, stockdata, stock_no):\n",
    "    for i in range(1, 5):  # 累積<5年資料\n",
    "        for j in range(1, 13):\n",
    "            print(date)\n",
    "            stockdata = stockdata.append(getstockdata(date, stock_no))\n",
    "            time.sleep(random.uniform(3, 6))\n",
    "            date = date + 100\n",
    "            if date > enddate:\n",
    "                break\n",
    "        date = date + 10000 - 1200\n",
    "        if date > enddate:\n",
    "            break\n",
    "    return stockdata\n",
    "\n",
    "\n",
    "def makehistorylist(historylistdir):\n",
    "    # 建立歷史資料檔名列表historylist\n",
    "    historylistdir = historylistdir\n",
    "    historylist = pd.DataFrame(os.listdir(historylistdir))\n",
    "    print(historylist)\n",
    "    historylist.to_csv(\"historylist.csv\", index=False, encoding='utf-8-sig')\n",
    "\n",
    "\n",
    "def lowshadow(pf, twstrdate, stockname):\n",
    "    ShadowAlert = tuple()\n",
    "    try:\n",
    "        if pf.at[twstrdate, \"開盤價\"] > pf.at[twstrdate, \"收盤價\"]:\n",
    "            loshadow = (pf.at[twstrdate, \"最高價\"] -\n",
    "                        pf.at[twstrdate, \"收盤價\"]) / pf.at[twstrdate, \"開盤價\"]\n",
    "            # print('綠下影線=', loshadow)\n",
    "        else:\n",
    "            loshadow = (pf.at[twstrdate, \"開盤價\"] -\n",
    "                        pf.at[twstrdate, \"最低價\"]) / pf.at[twstrdate, \"開盤價\"]\n",
    "            # print('紅下影線=', loshadow)\n",
    "        if loshadow > 0.03:\n",
    "            print(stockname, '有長下影線', round(loshadow, 2))\n",
    "            ShadowAlert = '有長下影線=', round(loshadow, 2)\n",
    "    except:\n",
    "        print(stockname, 'shadow pass')\n",
    "        pass\n",
    "    return ShadowAlert\n",
    "\n",
    "\n",
    "# 要更新的月份\n",
    "# date = 20230101\n",
    "path = os.getcwd()\n",
    "# 歷史檔案清單與清單內股票代號\n",
    "hislist = pd.read_csv(path+'/historylist.csv', encoding='utf-8-sig')\n",
    "stock_nolist = []"
   ]
  },
  {
   "cell_type": "code",
   "execution_count": 66,
   "metadata": {},
   "outputs": [
    {
     "name": "stdout",
     "output_type": "stream",
     "text": [
      "            日期        成交股數         成交金額    開盤價    最高價    最低價    收盤價   漲跌價差  \\\n",
      "0    111/03/01  14071999.0  671571062.0  47.80  47.85  47.50  47.80  +0.45   \n",
      "1    111/03/02   8187419.0  391264267.0  47.80  48.00  47.60  48.00  +0.20   \n",
      "2    111/03/03   7565742.0  362783289.0  47.95  48.05  47.80  48.05  +0.05   \n",
      "3    111/03/04  11071393.0  527906917.0  47.80  47.85  47.50  47.65  -0.40   \n",
      "4    111/03/07  16991368.0  799794535.0  47.45  47.45  46.90  47.10  -0.55   \n",
      "..         ...         ...          ...    ...    ...    ...    ...    ...   \n",
      "235  112/02/15  19116424.0  719132693.0  37.35  37.85  37.30  37.55    0.3   \n",
      "236  112/02/17  18234212.0  688163008.0  37.40  38.00  37.25  38.00    0.5   \n",
      "237  112/02/20  16664374.0  634546656.0  37.95  38.40  37.80  38.25   0.25   \n",
      "238  112/02/21   9443068.0  361950570.0  38.40  38.50  38.15  38.35    0.1   \n",
      "239  112/02/22  19617132.0  745735095.0  38.15  38.30  37.85  38.05   -0.3   \n",
      "\n",
      "        成交筆數 filter       rsv         k         d  \n",
      "0     7420.0  False       NaN       NaN       NaN  \n",
      "1     5924.0  False       NaN       NaN       NaN  \n",
      "2     5946.0  False       NaN       NaN       NaN  \n",
      "3     7319.0  False       NaN       NaN       NaN  \n",
      "4    10408.0  False       NaN       NaN       NaN  \n",
      "..       ...    ...       ...       ...       ...  \n",
      "235  11069.0    NaN  0.837838  0.752362  0.723870  \n",
      "236   9608.0    NaN  1.000000  0.834908  0.779877  \n",
      "237  10140.0    NaN  0.931818  0.867211  0.845676  \n",
      "238   6552.0    NaN  0.926829  0.887084  0.873835  \n",
      "239  10712.0    NaN  0.780488  0.851552  0.875240  \n",
      "\n",
      "[240 rows x 13 columns]\n"
     ]
    }
   ],
   "source": [
    "for i in range(0, len(hislist)):  # len(hislist)\n",
    "    hislists = hislist.iat[i, 0].split()\n",
    "    # print (hislists,hislists[1])\n",
    "    stock_nolist.append(hislists[1])\n",
    "stock_nolist = pd.DataFrame(stock_nolist)\n",
    "\n",
    "for i in range(0, 1):  # len(hislist)\n",
    "\n",
    "    # 取得自有歷史資料\n",
    "    thehistory = pd.read_csv(path+'/112kdnewhistory/' +\n",
    "                             hislist.iat[i, 0])\n",
    "    print(thehistory)"
   ]
  },
  {
   "cell_type": "code",
   "execution_count": 27,
   "metadata": {},
   "outputs": [
    {
     "name": "stdout",
     "output_type": "stream",
     "text": [
      "37.465\n"
     ]
    }
   ],
   "source": [
    "    print()"
   ]
  },
  {
   "cell_type": "code",
   "execution_count": 67,
   "metadata": {},
   "outputs": [
    {
     "name": "stdout",
     "output_type": "stream",
     "text": [
      "            日期        成交股數         成交金額    開盤價    最高價    最低價    收盤價  漲跌價差  \\\n",
      "235  112/02/15  19116424.0  719132693.0  37.35  37.85  37.30  37.55   0.3   \n",
      "236  112/02/17  18234212.0  688163008.0  37.40  38.00  37.25  38.00   0.5   \n",
      "237  112/02/20  16664374.0  634546656.0  37.95  38.40  37.80  38.25  0.25   \n",
      "238  112/02/21   9443068.0  361950570.0  38.40  38.50  38.15  38.35   0.1   \n",
      "239  112/02/22  19617132.0  745735095.0  38.15  38.30  37.85  38.05  -0.3   \n",
      "\n",
      "        成交筆數 filter       rsv         k         d  \n",
      "235  11069.0    NaN  0.837838  0.752362  0.723870  \n",
      "236   9608.0    NaN  1.000000  0.834908  0.779877  \n",
      "237  10140.0    NaN  0.931818  0.867211  0.845676  \n",
      "238   6552.0    NaN  0.926829  0.887084  0.873835  \n",
      "239  10712.0    NaN  0.780488  0.851552  0.875240  \n",
      "            日期        成交股數         成交金額    開盤價    最高價    最低價    收盤價  漲跌價差  \\\n",
      "235  112/02/15  19116424.0  719132693.0  37.35  37.85  37.30  37.55   0.3   \n",
      "236  112/02/17  18234212.0  688163008.0  37.40  38.00  37.25  38.00   0.5   \n",
      "237  112/02/20  16664374.0  634546656.0  37.95  38.40  37.80  38.25  0.25   \n",
      "238  112/02/21   9443068.0  361950570.0  38.40  38.50  38.15  38.35   0.1   \n",
      "239  112/02/22  19617132.0  745735095.0  38.15  38.30  37.85  38.05  -0.3   \n",
      "\n",
      "        成交筆數 filter       rsv         k         d  \n",
      "235  11069.0    NaN  0.837838  0.752362  0.723870  \n",
      "236   9608.0    NaN  1.000000  0.834908  0.779877  \n",
      "237  10140.0    NaN  0.931818  0.867211  0.845676  \n",
      "238   6552.0    NaN  0.926829  0.887084  0.873835  \n",
      "239  10712.0    NaN  0.780488  0.851552  0.875240  \n"
     ]
    }
   ],
   "source": [
    "    print (thehistory.tail())\n",
    "\n",
    "    new=thehistory\n",
    "    print (new.tail())"
   ]
  },
  {
   "cell_type": "code",
   "execution_count": 82,
   "metadata": {},
   "outputs": [
    {
     "name": "stdout",
     "output_type": "stream",
     "text": [
      "            日期        成交股數         成交金額    開盤價    最高價    最低價    收盤價   漲跌價差  \\\n",
      "0    111/03/01  14071999.0  671571062.0  47.80  47.85  47.50  47.80  +0.45   \n",
      "1    111/03/02   8187419.0  391264267.0  47.80  48.00  47.60  48.00  +0.20   \n",
      "2    111/03/03   7565742.0  362783289.0  47.95  48.05  47.80  48.05  +0.05   \n",
      "3    111/03/04  11071393.0  527906917.0  47.80  47.85  47.50  47.65  -0.40   \n",
      "4    111/03/07  16991368.0  799794535.0  47.45  47.45  46.90  47.10  -0.55   \n",
      "..         ...         ...          ...    ...    ...    ...    ...    ...   \n",
      "237  112/02/20  16664374.0  634546656.0  37.95  38.40  37.80  38.25   0.25   \n",
      "238  112/02/21   9443068.0  361950570.0  38.40  38.50  38.15  38.35    0.1   \n",
      "239  112/02/22  19617132.0  745735095.0  38.15  38.30  37.85  38.05   -0.3   \n",
      "240        NaN         NaN          NaN    NaN    NaN    NaN    NaN    NaN   \n",
      "241        NaN         NaN          NaN    NaN    NaN    NaN    NaN    NaN   \n",
      "\n",
      "        成交筆數 filter       rsv         k         d       20ma  \n",
      "0     7420.0  False       NaN       NaN       NaN        NaN  \n",
      "1     5924.0  False       NaN       NaN       NaN        NaN  \n",
      "2     5946.0  False       NaN       NaN       NaN        NaN  \n",
      "3     7319.0  False       NaN       NaN       NaN        NaN  \n",
      "4    10408.0  False       NaN       NaN       NaN        NaN  \n",
      "..       ...    ...       ...       ...       ...        ...  \n",
      "237  10140.0    NaN  0.931818  0.867211  0.845676        NaN  \n",
      "238   6552.0    NaN  0.926829  0.887084  0.873835        NaN  \n",
      "239  10712.0    NaN  0.780488  0.851552  0.875240        NaN  \n",
      "240      NaN    NaN       NaN       NaN       NaN   2.000000  \n",
      "241      NaN    NaN       NaN       NaN       NaN  37.036111  \n",
      "\n",
      "[242 rows x 14 columns]\n"
     ]
    }
   ],
   "source": [
    "    twentyMA=thehistory['收盤價'].tail(20).mean()\n",
    "    sixtyMA=thehistory['收盤價'].tail(60).mean()\n",
    "    new.at[len(new)-1,'20ma']=twentyMA\n",
    "    print (new.loc[-1:])\n",
    "    #print (new.tail().values[-1])"
   ]
  },
  {
   "cell_type": "code",
   "execution_count": 78,
   "metadata": {},
   "outputs": [
    {
     "data": {
      "text/plain": [
       "0           NaN\n",
       "1           NaN\n",
       "2           NaN\n",
       "3           NaN\n",
       "4           NaN\n",
       "         ...   \n",
       "235    0.723870\n",
       "236    0.779877\n",
       "237    0.845676\n",
       "238    0.873835\n",
       "239    0.875240\n",
       "Name: d, Length: 240, dtype: float64"
      ]
     },
     "execution_count": 78,
     "metadata": {},
     "output_type": "execute_result"
    }
   ],
   "source": [
    "new[new.columns[-1]]\n"
   ]
  }
 ],
 "metadata": {
  "kernelspec": {
   "display_name": "Python 3",
   "language": "python",
   "name": "python3"
  },
  "language_info": {
   "codemirror_mode": {
    "name": "ipython",
    "version": 3
   },
   "file_extension": ".py",
   "mimetype": "text/x-python",
   "name": "python",
   "nbconvert_exporter": "python",
   "pygments_lexer": "ipython3",
   "version": "3.6.4"
  },
  "orig_nbformat": 4
 },
 "nbformat": 4,
 "nbformat_minor": 2
}
